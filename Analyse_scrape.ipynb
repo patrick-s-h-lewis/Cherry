{
 "cells": [
  {
   "cell_type": "code",
   "execution_count": null,
   "metadata": {
    "collapsed": true
   },
   "outputs": [],
   "source": [
    "# Analysis suite\n",
    "program to analyse collection run quality"
   ]
  },
  {
   "cell_type": "code",
   "execution_count": 24,
   "metadata": {
    "collapsed": false
   },
   "outputs": [
    {
     "name": "stdout",
     "output_type": "stream",
     "text": [
      "10.1103/PhysRevLett.112.145901\n",
      "10.1002/elan.201400609\n",
      "10.1021/la9036327\n",
      "10.1002/elan.201300393\n",
      "10.1007/s12678-015-0284-8\n",
      "10.1021/jo900785k\n",
      "10.1002/pip.886\n",
      "10.1016/j.ica.2009.11.009\n",
      "10.1107/S0907444908036111\n",
      "10.1039/c4dt02475c\n",
      "10.1021/jp402835v\n",
      "10.1103/PhysRevB.77.245209\n",
      "10.4028/www.scientific.net/AMR.233-235.1872\n",
      "10.1103/PhysRevB.89.054304\n",
      "10.1021/om301252w\n",
      "10.1021/ol900843a\n",
      "10.1021/jz200668q\n",
      "10.1021/ja101554a\n",
      "10.1039/c5ra05998d\n",
      "10.1021/es200211r\n",
      "10.1016/j.eurpolymj.2008.04.022\n",
      "10.1021/jo100119y\n",
      "10.1016/j.bios.2011.08.028\n",
      "10.1103/PhysRevB.84.233301\n",
      "10.1016/j.polymer.2008.09.009\n",
      "10.1021/ja9060646\n",
      "10.1002/asia.201500444\n",
      "10.1021/nl102403t\n",
      "10.1002/elan.200904590\n",
      "10.1246/bcsj.74.509\n",
      "10.1103/PhysRevB.84.075213\n",
      "10.1021/jo8019187\n",
      "10.1039/b802728e\n",
      "10.1016/j.tetlet.2007.12.062\n",
      "10.1021/acs.est.5b01434\n",
      "10.1039/c3ra46558f\n",
      "10.1039/C4AN02277G\n",
      "10.1063/1.4892844\n",
      "10.1002/anie.200454033\n",
      "10.1002/app.33040\n",
      "10.1002/app.29362\n",
      "10.1021/acs.est.5b00637\n",
      "10.1016/j.tca.2010.08.007\n",
      "10.1016/j.eurpolymj.2008.08.010\n",
      "10.1021/bm501519u\n",
      "10.1016/j.proeng.2011.12.234\n",
      "10.1016/j.bios.2012.08.019\n",
      "10.1002/pi.2671\n",
      "10.1016/j.micromeso.2009.11.036\n",
      "0\n",
      "0\n",
      "1\n"
     ]
    },
    {
     "data": {
      "text/plain": [
       "\"\\ncoll_pub = [r['pub'] for r in coll_l]\\nprint(max(set(coll_pub), key=coll_pub.count))\\nfor i in set(coll_pub):\\n    print(i + ' : occurnaces : ' +str( coll_pub.count(i)) )\""
      ]
     },
     "execution_count": 24,
     "metadata": {},
     "output_type": "execute_result"
    }
   ],
   "source": [
    "import json\n",
    "import re\n",
    "scraped = 'scraped3'+'.json'\n",
    "failed = 'losses3'+'.json'\n",
    "with open(scraped,'r') as sr:\n",
    "    with open(failed,'r') as fr:\n",
    "        s = json.load(sr)\n",
    "        f = json.load(fr)\n",
    "        coll=0\n",
    "        time=0\n",
    "        miss=0\n",
    "        coll_l=[]\n",
    "        time_l=[]\n",
    "        miss_l=[]\n",
    "        for rec in f:\n",
    "            if rec['error']=='collection':\n",
    "                coll+=1\n",
    "                coll_l.append(rec)\n",
    "            if rec['error']=='timeout':\n",
    "                time+=1\n",
    "                time_l.append(rec)\n",
    "            if rec['error']=='missing_pub':\n",
    "                miss+=1\n",
    "                miss_l.append(rec)\n",
    "        for rec in s:\n",
    "            print(rec['doi'])\n",
    "\n",
    "print coll\n",
    "print time\n",
    "print miss\n",
    "\n",
    "'''\n",
    "coll_pub = [r['pub'] for r in coll_l]\n",
    "print(max(set(coll_pub), key=coll_pub.count))\n",
    "for i in set(coll_pub):\n",
    "    print(i + ' : occurnaces : ' +str( coll_pub.count(i)) )'''"
   ]
  },
  {
   "cell_type": "code",
   "execution_count": null,
   "metadata": {
    "collapsed": true
   },
   "outputs": [],
   "source": []
  }
 ],
 "metadata": {
  "kernelspec": {
   "display_name": "Python 2",
   "language": "python",
   "name": "python2"
  },
  "language_info": {
   "codemirror_mode": {
    "name": "ipython",
    "version": 2
   },
   "file_extension": ".py",
   "mimetype": "text/x-python",
   "name": "python",
   "nbconvert_exporter": "python",
   "pygments_lexer": "ipython2",
   "version": "2.7.10"
  }
 },
 "nbformat": 4,
 "nbformat_minor": 0
}
