{
 "cells": [
  {
   "cell_type": "markdown",
   "metadata": {
    "collapsed": true
   },
   "source": [
    "# Analysis suite\n",
    "program to analyse collection run quality"
   ]
  },
  {
   "cell_type": "code",
   "execution_count": 89,
   "metadata": {
    "collapsed": false
   },
   "outputs": [],
   "source": [
    "import json\n",
    "import re\n",
    "import datetime\n",
    "export = 'stats summary.txt'\n",
    "scraped = 'scraped6'+'.json'\n",
    "failed = 'losses6'+'.json'\n",
    "with open(scraped,'r') as sr:\n",
    "    with open(failed,'r') as fr:\n",
    "        s = json.load(sr)\n",
    "        f = json.load(fr)\n",
    "        coll_no=0\n",
    "        time_no=0\n",
    "        miss_no=0\n",
    "        coll_l=[]\n",
    "        time_l=[]\n",
    "        miss_l=[]\n",
    "        for rec in f:\n",
    "            if rec['error']=='collection':\n",
    "                coll_no+=1\n",
    "                coll_l.append(rec)\n",
    "            if rec['error']=='timeout':\n",
    "                time_no+=1\n",
    "                time_l.append(rec)\n",
    "            if rec['error']=='missing_pub':\n",
    "                miss_no+=1\n",
    "                miss_l.append(rec)\n",
    "\n",
    "success_no=len(s)\n",
    "fail_no=len(f)\n",
    "parse_no = success_no+fail_no\n",
    "conv_no = float(success_no)/float(parse_no)\n",
    "coll_pub = [r['pub'] for r in coll_l]\n",
    "miss_pub = [r['pub'] for r in miss_l]\n",
    "with open(export,'wb+') as f:\n",
    "    f.write('*'*70+'\\n')\n",
    "    f.write(\"Analysis of scraping run performed at \"+datetime.datetime.now().strftime('%H:%m %d %B %Y')+'\\n')\n",
    "    f.write('*'*70+'\\n'+'\\n')\n",
    "    f.write('Total records parsed:                             '+ str(parse_no)+'\\n')\n",
    "    f.write('Total records successfully collected:             ' + str(success_no)+'\\n')\n",
    "    f.write('Conversion rate:                                  '+'%.4f'%(conv_no*100)+'%'+'\\n')\n",
    "    f.write('\\n'+'\\n')\n",
    "    f.write('-'*70+'\\n')\n",
    "    f.write('Losses Breakdown:'+'\\n')\n",
    "    f.write('-'*70+'\\n'+'\\n')\n",
    "    f.write('Total No. of records not converted:               '+ str(fail_no)+'\\n')\n",
    "    f.write('No. lost due to errors in collection:             '+ str(coll_no)+'\\n')\n",
    "    f.write('No. lost due to request timeouts:                 '+ str(time_no)+'\\n')\n",
    "    f.write('No. lost due to missing publisher info:           '+str(miss_no)+'\\n')\n",
    "    f.write('\\n'+'\\n')\n",
    "    f.write('-'*70+'\\n')\n",
    "    f.write('Collection Errors Breakdown:'+'\\n')\n",
    "    f.write('-'*70+'\\n'+'\\n')\n",
    "    f.write('Most collection errors for publisher:           '+max(set(coll_pub), key=coll_pub.count)+'\\n')\n",
    "    f.write('\\n'+'\\n')\n",
    "    f.write('Publisher                                   no. of errors')\n",
    "    f.write('\\n')\n",
    "    for i in set(coll_pub):\n",
    "        pad = len(i)\n",
    "        f.write(i+' '*(50-pad)+str(coll_pub.count(i)) +'\\n')\n",
    "    f.write('\\n'+'\\n')\n",
    "    f.write('-'*70+'\\n')\n",
    "    f.write('Missing publisher Errors Breakdown:'+'\\n')\n",
    "    f.write('-'*70+'\\n'+'\\n')\n",
    "    f.write('Most frequent missing publisher:                '+max(set(miss_pub), key=miss_pub.count)+'\\n')\n",
    "    f.write('\\n'+'\\n')\n",
    "    f.write('Publisher                                number of records')\n",
    "    f.write('\\n')\n",
    "    for i in set(miss_pub):\n",
    "        pad = len(i)\n",
    "        f.write(i+' '*(50-pad)+str(miss_pub.count(i)) +'\\n')\n",
    "    f.write('\\n'+'*'*70)"
   ]
  },
  {
   "cell_type": "code",
   "execution_count": null,
   "metadata": {
    "collapsed": true
   },
   "outputs": [],
   "source": []
  }
 ],
 "metadata": {
  "kernelspec": {
   "display_name": "Python 2",
   "language": "python",
   "name": "python2"
  }
 },
 "nbformat": 4,
 "nbformat_minor": 0
}
