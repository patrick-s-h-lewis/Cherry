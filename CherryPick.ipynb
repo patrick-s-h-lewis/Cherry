{
 "cells": [
  {
   "cell_type": "markdown",
   "metadata": {},
   "source": [
    "#CherryPick prototype\n",
    "Scrape a page for DOIS, clean and check them, then get some metadata from the crossRef API"
   ]
  },
  {
   "cell_type": "code",
   "execution_count": 147,
   "metadata": {
    "collapsed": false
   },
   "outputs": [
    {
     "name": "stdout",
     "output_type": "stream",
     "text": [
      "[u'10.1021/ic501411w', u'10.1038/ncomms4332', u'10.1039/c4cy00027g', u'10.1016/j.tet.2014.02.043', u'10.1016/j.jcat.2013.04.005', u'10.1039/C4OB01916D', u'10.1039/C4CE00308J', u'10.1063/1.4903961', u'10.1002/cphc.201402271', u'10.1021/op500221s', u'10.1021/bi500507v', u'10.1021/bi500238q', u'10.1002/chem.201304005', u'10.1063/1.4889780', u'10.1002/anie.201308997', u'10.1016/j.ccr.2014.02.003', u'10.1039/C3SM52877D', u'10.1016/j.jorganchem.2013.08.031', u'10.1039/c4ta02521k', u'10.1021/bi500508z', u'10.1007/s11244-013-0229-5', u'10.1002/chem.201303736', u'10.1021/ja5066366', u'10.1107/S1600536814019035', u'10.1039/C4MD00265B', u'10.1021/om500847j', u'10.1002/chem.201302053', u'10.1002/9781118695708.ch1', u'10.1021/ic403011h', u'10.1039/C4SC00545G', u'10.1039/c4cy00387j', u'10.1039/c3dt52972j', u'10.1039/c4gc00087k', u'10.1016/j.tet.2014.03.078', u'10.1556/JFC-D-13-00030', u'10.1039/C3SC52745J', u'10.1039/c4dt00519h', u'10.1007/s11243-013-9789-2', u'10.1016/B978-0-08-097742-3.00821-1', u'10.1016/j.tetlet.2014.08.036', u'10.1021/nn405757q', u'10.1021/op500195e', u'10.1016/j.apsusc.2014.06.088', u'10.1039/C4CC04024D', u'10.1021/jo402591v', u'10.1016/j.apsusc.2014.09.078', u'10.1039/c4ce00070f', u'10.1021/jp409522q', u'10.1107/S1600536814003729', u'10.1002/cssc.201300834', u'10.1002/chem.201303355', u'10.1107/S1600536814020017', u'10.1055/s-0033-1340835', u'10.1002/anie.201404266', u'10.1021/jp5078664', u'10.1021/cs400683e', u'10.1007/s13203-014-0059-9', u'10.1021/jp505847g', u'10.1016/j.jinorgbio.2014.02.015', u'10.1039/c3dt50874a', u'10.1021/ja5021348', u'10.1371/journal.pone.0107462', u'10.1002/jcp.24632', u'10.1142/9781848167513_0003', u'10.1016/j.electacta.2013.08.169', u'10.1039/C4CY01213E', u'10.1021/ja5006256', u'10.1107/S1600536814011350', u'10.1016/j.electacta.2013.10.028', u'10.1107/S160053681401664X', u'10.1021/op500213j', u'10.1016/j.susc.2013.11.013', u'10.1007/s00214-014-1525-2', u'10.1021/ja4110842', u'10.1039/C4CP00529E', u'10.1039/c4cc03259d', u'10.1039/C4DT02203C', u'10.1039/C3DT52524D', u'10.1002/ange.201400405', u'10.1021/ar5002457', u'10.1002/asia.201301582', u'10.1021/ol500591q', u'10.1021/ol502201d', u'10.1039/C4FD00215F', u'10.14233/ajchem.2014.15918', u'10.1039/c3ra47573e', u'10.1016/j.jinorgbio.2014.07.011', u'10.1093/bja/aet373', u'10.1002/chem.201402174', u'10.1039/c4cy00184b', u'10.1021/jp5081753', u'10.1002/ejic.201402606', u'10.1016/j.ccr.2014.03.037', u'10.1107/S1600536814005996', u'10.1039/C4DT02239D', u'10.1016/j.jelechem.2013.09.018', u'10.1039/C4CS00042K', u'10.1002/elan.201400085', u'10.1039/c3ce42267d', u'10.1063/1.4885217', u'10.1002/chem.201402446', u'10.1039/C3OB41869C', u'10.1021/ic402597s', u'10.1039/c4fd00061g', u'10.1016/B978-0-08-097742-3.00735-7', u'10.1002/ejic.201402248', u'10.1021/ja5102536', u'10.1039/C4CP04046E', u'10.1016/j.tet.2014.06.070', u'10.1016/j.jinorgbio.2014.06.019', u'10.1021/ic403097s', u'10.1002/chem.201404762', u'10.1107/S160053681401633X', u'10.1002/anie.201308395', u'10.1039/C4CP00564C', u'10.1002/cmdc.201400056', u'10.1063/1.4894746', u'10.1039/c4dt00114a', u'10.1002/anie.201308067', u'10.1002/hc.21164', u'10.1080/00268976.2013.822592', u'10.1021/ic500142z', u'10.1016/j.jsb.2014.07.004', u'10.1021/ct4009969', u'10.1039/C4OB01788A', u'10.1071/CH14170', u'10.1021/om500518r', u'10.1021/cm503174z', u'10.1002/ejic.201402595', u'10.1021/op500155f', u'10.1021/jp412726z', u'10.1016/j.polymer.2013.07.035', u'10.3390/catal4020089', u'10.1039/C4RA03102D', u'10.1021/om500734b', u'10.1002/open.201300039', u'10.1016/j.tet.2014.02.003', u'10.1039/c4cy00044g', u'10.1021/ja502673h', u'10.14293/S2199-1006.1.SOR-CHEM.AALL9P.v1', u'10.1021/ar400177c', u'10.1107/S1600536813033266', u'10.1039/C4OB01396D', u'10.1021/ic402955e', u'10.1007/s11030-013-9498-y', u'10.1016/j.tet.2014.04.083', u'10.1107/S1600536814019990', u'10.1021/ic501236j', u'10.1126/science.1257158', u'10.1039/C4CP04693E', u'10.1002/chem.201403891', u'10.1016/j.mex.2014.08.007', u'10.1021/jm5001216', u'10.1039/9781782620037-00218', u'10.1002/chem.201302348', u'10.1039/c3dt52841c', u'10.1055/s-0034-1379721', u'10.1039/c3cp53691b', u'10.1021/sc400492x', u'10.1039/c4cc01370k', u'10.1002/9783527658985.ch12', u'10.1002/anie.201400405', u'10.11113/jt.v69.3198', u'10.1016/j.apcata.2014.07.029', u'10.1107/S1600536814019321', u'10.1016/j.poly.2013.09.033', u'10.3390/molecules191015584', u'10.1016/j.cplett.2014.02.049', u'10.1002/anie.201405755', u'10.1002/9781118778173', u'10.1002/cbic.201402103', u'10.1039/c3ra46386a', u'10.1107/S1600536814015657', u'10.1016/j.ccr.2014.05.021', u'10.1126/science.1253537', u'10.1002/anie.201406706']\n",
      "[u'Relationships between Electron Density and Magnetic Properties in Water-Bridged Dimetal Complexes']\n",
      "[u'The benzaldehyde oxidation paradox explained by the interception of peroxy radical by benzyl alcohol']\n",
      "[u'Deactivation studies of a carbon supported AuPt nanoparticulate catalyst in the liquid-phase aerobic oxidation of 1,2-propanediol']\n",
      "[u'Heterogeneously catalyzed oxidation of butanediols in base free aqueous media']\n",
      "[u'Hydrogen production by photoreforming of biofuels using Au, Pd and Au\\u2013Pd/TiO2 photocatalysts']\n",
      "[u'Improving catalyst activity in secondary amine catalysed transformations']\n",
      "[u' Weakening of the \\u03c0*\\u2013\\u03c0* dimerisation in 1,2,3,5-dithiadiazolyl radicals: structural, EPR, magnetic and computational studies of dichlorophenyl dithiadiazolyls, Cl 2 C 6 H 3 CNSSN ']\n",
      "[u'Direct production of OH radicals upon CH overtone activation of (CH3)2COO Criegee intermediates']\n",
      "[u'Oxygen Reduction Reaction Activity on Pt{111} Surface Alloys']\n",
      "[u' Reconfiguration of a Continuous Flow Platform for Extended Operation: Application to a Cryogenic Fluorine-Directed ortho -Lithiation Reaction ']\n",
      "[u'Role of the Occluded Conformation in Bacterial Dihydrofolate Reductases']\n",
      "[u' Thermal Adaptation of Dihydrofolate Reductase from the Moderate Thermophile Geobacillus stearothermophilus ']\n",
      "[u' Analysis of High and Selective Uptake of CO 2 in an Oxamide-Containing {Cu 2 (OOCR) 4 }-Based Metal-Organic Framework ']\n",
      "[u'Nonstatistical dynamics on the caldera']\n",
      "[u' The Trifluoromethylating Sandmeyer Reaction: A Method for Transforming C\\uf8ffN into C\\uf8ffCF 3 ']\n",
      "[u'The coordination chemistry of substituted anthraquinones: Developments and applications']\n",
      "[u'The interfacial structure of polymeric surfactant stabilised air-in-water foams']\n",
      "[u'Luminescent rhenium(I) complexes of substituted imidazole[4,5-f]-1,10-phenanthroline derivatives']\n",
      "[u'Porous macromolecular dihydropyridyl frameworks exhibiting catalytic and halochromic activity']\n",
      "[u' Loop Interactions during Catalysis by Dihydrofolate Reductase from Moritella profunda ']\n",
      "[u'Gold-Based Nanoparticulate Catalysts for the Oxidative Esterification of 1,4-Butanediol to Dimethyl Succinate']\n",
      "[u'Investigation of a Lithium-Halogen Exchange Flow Process for the Preparation of Boronates by Using a Cryo-Flow Reactor']\n",
      "[u'Evolutionary and Mechanistic Insights from the Reconstruction of \\u03b1-Humulene Synthases from a Modern (+)-Germacrene A Synthase']\n",
      "[u' Crystal structure of bis{ N -[2-(dimethylamino)ethyl]quinolin-8-amine-\\u03ba 3 N , N \\u2032, N \\u2032\\u2032}nickel(II) dichloride 3.5-hydrate ']\n",
      "[u'Gold compounds as aquaporin inhibitors: new opportunities for therapy and imaging']\n",
      "[u'Iron-Catalyzed Borylation of Alkyl, Allyl, and Aryl Halides: Isolation of an Iron(I) Boryl Complex']\n",
      "[u'Solid-State Interconversions: Unique 100 % Reversible Transformations between the Ground and Metastable States in Single-Crystals of a Series of Nickel(II) Nitro Complexes']\n",
      "[u'Powder Diffraction']\n",
      "[u' Caffeine-Based Gold(I) N -Heterocyclic Carbenes as Possible Anticancer Agents: Synthesis and Biological Properties ']\n",
      "[u'Light alkane oxidation using catalysts prepared by chemical vapour impregnation: tuning alcohol selectivity through catalyst pre-treatment']\n",
      "[u'Solvent-free aerobic oxidation of alcohols using supported gold palladium nanoalloys prepared by a modified impregnation method']\n",
      "[u'Post-synthetic preparation of Sn-, Ti- and Zr-beta: a facile route to water tolerant, highly active Lewis acidic zeolites']\n",
      "[u'Base-free glucose oxidation using air with supported gold catalysts']\n",
      "[u'An investigation of the scope of the 1,7-electrocyclization of\\xa0\\u03b1,\\u03b2:\\u03b3,\\u03b4-conjugated azomethine ylides']\n",
      "[u'Electrochemical Synthesis in Microreactors']\n",
      "[u'Modification of coordination networks through a photoinduced charge transfer process']\n",
      "[u'A benzimidazole functionalised DO3A chelator showing pH switchable coordination modes with lanthanide ions']\n",
      "[u'Silver nanoparticles functionalised with a luminescent iridium complex: phosphorescent hybrid materials']\n",
      "[u'8.19 Partial Reduction of Benzenoid Aromatic Rings by Dissolving Metals and by Other Methods']\n",
      "[u'A facile regioselective 1,3-dipolar cycloaddition protocol for the synthesis of new class of quinolinyl dispiro heterocycles']\n",
      "[u'High Activity Redox Catalysts Synthesized by Chemical Vapor Impregnation']\n",
      "[u'Oxidation of Benzyl Alcohol using in Situ Generated Hydrogen Peroxide']\n",
      "[u'Study of the magnetic\\u2013Alq3 interface in organic spin-valves']\n",
      "[u'Selective photocatalytic oxidation of benzene for the synthesis of phenol using engineered Au\\u2013Pd alloy nanoparticles supported on titanium dioxide']\n",
      "[u'Isothiourea-Mediated Asymmetric Functionalization of 3-Alkenoic Acids']\n",
      "[u'Surface state modulation through wet chemical treatment as a route to controlling the electrical properties of ZnO nanowire arrays investigated with XPS']\n",
      "[u'An organometallic complex revealing an unexpected, reversible, temperature induced SC\\u2013SC transformation']\n",
      "[u' Catalytic Dissociation of Water on the (001), (011), and (111) Surfaces of Violarite, FeNi 2 S 4 : A DFT-D2 Study ']\n",
      "[u' 2,2-Dimethyl- N -(4-methylpyridin-2-yl)propanamide ']\n",
      "[u'Base-Free Oxidation of Glycerol Using Titania-Supported Trimetallic Au-Pd-Pt Nanoparticles']\n",
      "[u' Oxidation of Benzyl Alcohol and Carbon Monoxide Using Gold Nanoparticles Supported on MnO 2 Nanowire Microspheres ']\n",
      "[u'Crystal structure of 4,4-dibutyl-2-phenyl-3,4-dihydroquinazoline']\n",
      "[u'Safe Generation and Direct Use of Diazoesters in Flow Chemistry']\n",
      "[u'\\u201cCLASSIC NMR\\u201d: An In-Situ NMR Strategy for Mapping the Time-Evolution of Crystallization Processes by Combined Liquid-State and Solid-State Measurements']\n",
      "[u'Density Functional Theory Study of the Adsorption of Hydrazine on the Perfect and Defective Copper (100), (110), and (111) Surfaces']\n",
      "[u' Molybdenum Oxide on Fe 2 O 3 Core\\u2013Shell Catalysts: Probing the Nature of the Structural Motifs Responsible for Methanol Oxidation Catalysis ']\n",
      "[u'Catalysis using colloidal-supported gold-based nanoparticles']\n",
      "[u' New Insights into the Structure of the C-Terminated \\u03b2-Mo 2 C (001) Surface from First-Principles Calculations ']\n",
      "[u'Nitrate as a probe of cytochrome c surface: Crystallographic identification of crucial \\u201chot spots\\u201d for protein\\u2013protein recognition']\n",
      "[u'Photophysics and electrochemistry of a platinum-acetylide disubstituted perylenediimide']\n",
      "[u'A Two-Coordinate Manganese(0) Complex with an Unsupported Mn\\u2013Mg Bond: Allowing Access to Low Coordinate Homo- and Heterobimetallic Compounds']\n",
      "[u'Variation in Capsidiol Sensitivity between Phytophthora infestans and Phytophthora capsici Is Consistent with Their Host Range']\n",
      "[u'Functional Inhibition of Aquaporin-3 With a Gold-Based Compound Induces Blockage of Cell Proliferation']\n",
      "[u'The Catalytic Oxidation of Hydrocarbon Volatile Organic Compounds']\n",
      "[u'Polymers of intrinsic microporosity in electrocatalysis: Novel pore rigidity effects and lamella palladium growth']\n",
      "[u'Molybdenum blue nano-rings: an effective catalyst for the partial oxidation of cyclohexane']\n",
      "[u'Photoinitiated Synthesis of Self-Assembled Vesicles']\n",
      "[u'1-(2-Bromo-4-chlorophenyl)-3,3-dimethylthiourea']\n",
      "[u'A novel cobalt complex for enhancing amperometric and impedimetric DNA detection']\n",
      "[u' Crystal structure of 2-ethylquinazoline-4(3 H )-thione ']\n",
      "[u'Design and Application of a Low-Temperature Continuous Flow Chemistry Platform']\n",
      "[u'Adsorption of hydrazine on the perfect and defective copper (111) surface: A dispersion-corrected DFT study']\n",
      "[u'Effect of a chiral electrostatic cavity on product selection in a reaction with a bifurcating reaction path']\n",
      "[u' Activation of Alkynes with B(C 6 F 5 ) 3 \\u2013 Boron Allylation Reagents Derived from Propargyl Esters ']\n",
      "[u' A DFT study of the structures, stabilities and redox behaviour of the major surfaces of magnetite Fe 3 O 4 ']\n",
      "[u' Recent developments in gold( i ) coordination chemistry: luminescence properties and bioimaging opportunities ']\n",
      "[u' Manganese( i ) templates for the construction of benzannulated triphosphamacrocycles ']\n",
      "[u'A golden future in medicinal inorganic chemistry: the promise of anticancer gold organometallic compounds']\n",
      "[u'Flexible stereoselektive Funktionalisierung von Ketonen durch Umpolung mit hypervalenten Iodreagentien']\n",
      "[u'Anionic Chiral Tridentate N-Donor Pincer Ligands in Asymmetric Catalysis']\n",
      "[u'Hypervalent Iodine-Catalyzed Oxidative Functionalizations Including Stereoselective Reactions']\n",
      "[u'Triptycene-Based Organic Molecules of Intrinsic Microporosity']\n",
      "[u'Expedient Preparation of Nazlinine and a Small Library of Indole Alkaloids Using Flow Electrochemistry as an Enabling Technology']\n",
      "[u'New in situ solid-state NMR techniques for probing the evolution of crystallization processes: pre-nucleation, nucleation and growth']\n",
      "[u'Pyrazolopyridines II: Synthesis and Antibacterial Screening of 6-Aryl-3-methyl-1-phenyl-1H-pyrazolo[3,4-b]pyridine-4-carboxylic Acids']\n",
      "[u'A single rapid route for the synthesis of reduced graphene oxide with antibacterial activities']\n",
      "[u'New heteronuclear gold(I)\\u2013platinum(II) complexes with cytotoxic properties: Are two metals better than one?']\n",
      "[u'Abstracts of the Winter Anaesthetic Research Society Meeting (ARS): The Royal College of Anaesthetists, London, UK, October 1-2, 2013']\n",
      "[u'Expedient Iron-Catalyzed Coupling of Alkyl, Benzyl and Allyl Halides with Arylboronic Esters']\n",
      "[u'Conversion of furfuryl alcohol into 2-methylfuran at room temperature using Pd/TiO2 catalyst']\n",
      "[u'The Nature of the Molybdenum Surface in Iron Molybdate. The Active Phase in Selective Methanol Oxidation']\n",
      "[u'Non-Nuclear Attractor in a Molecular Compound under External Pressure']\n",
      "[u'Self-assembled M2L4 coordination cages: Synthesis and potential applications']\n",
      "[u' 2-Ethyl-3-[( R )-2-phenylbutanamido]quinazolin-4(3 H )-one monohydrate ']\n",
      "[u' Aspects of the coordination chemistry of rac-trans-1,2-diphosphinocyclohexane and the preparation of reinforced 9aneP 3 and 9anePN 2 macrocycles ']\n",
      "[u'Characterisation and electrocatalytic activity of PtNi alloys on Pt{111} electrodes formed using different thermal treatments']\n",
      "[u'Organocatalytic Lewis base functionalisation of carboxylic acids, esters and anhydrides via C1-ammonium or azolium enolates']\n",
      "[u'Intrinsically Porous Polymer Protects Catalytic Gold Particles for Enzymeless Glucose Oxidation']\n",
      "[u'A series of Ln-p-chlorobenzoic acid\\u2013terpyridine complexes: lanthanide contraction effects, supramolecular interactions and luminescent behavior']\n",
      "[u'Comparison of Au and TiO2 based catalysts for the synthesis of chalcogenide nanowires']\n",
      "[u' Highly Efficient Chiral Resolution of dl -Arginine by Cocrystal Formation Followed by Recrystallization under Preferential-Enrichment Conditions ']\n",
      "[u'2-Arylacetic anhydrides as ammonium enolate precursors']\n",
      "[u' Bifunctional Zn II Ln III Dinuclear Complexes Combining Field Induced SMM Behavior and Luminescence: Enhanced NIR Lanthanide Emission by 9-Anthracene Carboxylate Bridging Ligands ']\n",
      "[u'Spectroscopic and atomic force studies of the functionalisation of carbon surfaces: new insights into the role of the surface topography and specific chemical states']\n",
      "[u'7.29 Oxidative Functionalization with Hypervalent Halides']\n",
      "[u'New Gold(I) Organometallic Compounds with Biological Activity in Cancer Cells']\n",
      "[u' Protein Isotope Effects in Dihydrofolate Reductase From Geobacillus stearothermophilus Show Entropic\\u2013Enthalpic Compensatory Effects on the Rate Constant ']\n",
      "[u'Modelling analysis of the structure and porosity of covalent triazine-based frameworks']\n",
      "[u'Base-promoted new C\\u2013C bond formation: an expedient route for the preparation of thiazolo- and imidazolo-pyridinones via Michael addition']\n",
      "[u'Light-stable bis(norharmane)silver(I) compounds: Synthesis, characterization and antiproliferative effects in cancer cells']\n",
      "[u' Closely-Related Zn II 2 Ln III 2 Complexes (Ln III = Gd, Yb) with Either Magnetic Refrigerant or Luminescent Single-Molecule Magnet Properties ']\n",
      "[u'Organocatalytic Stereoselective Iodoamination of Alkenes']\n",
      "[u' Crystal structure of 2- tert -butyl-1,3-thiazolo[4,5- b ]pyridine ']\n",
      "[u'TMEDA in Iron-Catalyzed Kumada Coupling: Amine Adduct versus Homoleptic \\u201cate\\u201d Complex Formation']\n",
      "[u'Specific adsorption of perchlorate anions on Pt{hkl} single crystal electrodes']\n",
      "[u'Cytotoxic Gold(I) N-heterocyclic Carbene Complexes with Phosphane Ligands as Potent Enzyme Inhibitors']\n",
      "[u'Quantum dynamical investigation of the simplest Criegee intermediate CH2OO and its O\\u2013O photodissociation channels']\n",
      "[u'Chiral lanthanide complexes: coordination chemistry, spectroscopy, and catalysis']\n",
      "[u'The Direct Synthesis of Hydrogen Peroxide Using Platinum-Promoted Gold-Palladium Catalysts']\n",
      "[u'Synthesis and Antioxidant Activities of Novel Chiral Ebselen Analogues']\n",
      "[u' 1+1\\u2032 resonant multiphoton ionisation of OH radicals via the A 2 \\u03a3 + state: insights from direct comparison with A-X laser-induced fluorescence detection ']\n",
      "[u'Fluorescent Rhenium-Naphthalimide Conjugates as Cellular Imaging Agents']\n",
      "[u'The structural basis of differential inhibition of human calpain by indole and phenyl \\u03b1-mercaptoacrylic acids']\n",
      "[u'Ion Binding to Quadruplex DNA Stems. Comparison of MM and QM Descriptions Reveals Sizable Polarization Effects Not Included in Contemporary Simulations']\n",
      "[u'Organocatalytic Michael addition\\u2013lactonisation of carboxylic acids using \\u03b1,\\u03b2-unsaturated trichloromethyl ketones as \\u03b1,\\u03b2-unsaturated ester equivalents']\n",
      "[u'Formation of an Unusual Bis(diguanidinate) Ligand via Nucleophilic Attack of a Guanidinate onto a Carbodiimide']\n",
      "[u'Iron Phosphine Catalyzed Cross-Coupling of Tetraorganoborates and Related Group 13 Nucleophiles with Alkyl Halides']\n",
      "[u'Active Nature of Primary Amines during Thermal Decomposition of Nickel Dithiocarbamates to Nickel Sulfide Nanoparticles']\n",
      "[u'Chromophores, Fluorophores and Robust Ancillary Ligands for Molecular Catalysts: 1,3-Bis(2-pyridylimino)isoindolines']\n",
      "[u'Rapid Electrochemical Deprotection of the Isonicotinyloxycarbonyl Group from Carbonates and Thiocarbonates in a Microfluidic Reactor']\n",
      "[u'UV Spectroscopic Characterization of Dimethyl- and Ethyl-Substituted Carbonyl Oxides']\n",
      "[u'Centrotriindane- and triptindane-based polymers of intrinsic microporosity']\n",
      "[u'Inhibition of a Gold-Based Catalyst in Benzyl Alcohol Oxidation: Understanding and Remediation']\n",
      "[u'Nanostructures by self-assembly of polyglycidol-derivatized lipids']\n",
      "[u' Peripheral Methyl Activation in \\u03b7 4 -1,2,3,4-Tetramethylcyclobutadienylcobalt Complexes: Template Synthesis and Subsequent Reactivity of Triphosphamacrocycles ']\n",
      "[u'Difluoro- and Trifluoromethylation of Electron-Deficient Alkenes in an Electrochemical Microreactor']\n",
      "[u'A rapid and efficient protocol for the synthesis of novel nitrothiazolo[3,2-c]pyrimidines via microwave-mediated Mannich cyclisation']\n",
      "[u'Novel cobalt zinc oxide Fischer\\u2013Tropsch catalysts synthesised using supercritical anti-solvent precipitation']\n",
      "[u'Different Dynamical Effects in Mesophilic and Hyperthermophilic Dihydrofolate Reductases']\n",
      "[u'Synthesis of Quinolinequinone Derivatives and related Carbocyclic Compounds']\n",
      "[u'Strategies for Designing Supported Gold\\u2013Palladium Bimetallic Catalysts for the Direct Synthesis of Hydrogen Peroxide']\n",
      "[u' (2 E )-2-(1,3-Benzothiazol-2-yl)-3-(dimethylamino)prop-2-enenitrile ']\n",
      "[u'Theoretical insight into the antioxidant properties of melatonin and derivatives']\n",
      "[u' Photochemistry in a 3D Metal\\u2013Organic Framework (MOF): Monitoring Intermediates and Reactivity of the fac -to- mer Photoisomerization of Re(diimine)(CO) 3 Cl Incorporated in a MOF ']\n",
      "[u'A regioselective multicomponent protocol for the synthesis of novel bioactive 4-hydroxyquinolin-2(1H)-one grafted monospiropyrrolidine and thiapyrrolizidine hybrids']\n",
      "[u'[1,3]-Dipolar cycloaddition of N-aryl sydnones to benzothiophene 1,1-dioxide, 1-cyclopropylprop-2-yn-1-ol and 1-(prop-2-ynyl)-1H-indole']\n",
      "[u'Crystal structure of 2-[4-(methylsulfanyl)quinazolin-2-yl]-1-phenylethanol']\n",
      "[u'Thiocyanate Complexes of Uranium in Multiple Oxidation States: A Combined Structural, Magnetic, Spectroscopic, Spectroelectrochemical, and Theoretical Study']\n",
      "[u'Infrared-driven unimolecular reaction of CH3CHOO Criegee intermediates to OH radical products']\n",
      "[u'Optimised photocatalytic hydrogen production using core\\u2013shell AuPd promoters with controlled shell thickness']\n",
      "[u'Enantioselective Diamination with Novel Chiral Hypervalent Iodine Catalysts']\n",
      "[u'Comparative analysis and validation of the malachite green assay for the high throughput biochemical characterization of terpene synthases']\n",
      "[u'Efficacious Inhaled PDE4 Inhibitors with Low Emetic Potential and Long Duration of Action for the Treatment of COPD']\n",
      "[u'Chapter 7. Catalyst preparation using supercritical fluid precipitation']\n",
      "[u'The Effect of Grafting Zirconia and Ceria onto Alumina as a Support for Silicotungstic Acid for the Catalytic Dehydration of Glycerol to Acrolein']\n",
      "[u\"It's all about Me: methyl-induced control of coordination stereochemistry by a flexible tridentate N,C,N\\u2032 ligand\"]\n",
      "[u'Cluster Preface: Progress in Organo-Fluorine Chemistry']\n",
      "[u'Impact of co-adsorbed oxygen on crotonaldehyde adsorption over gold nanoclusters: a computational study']\n",
      "[u'Nanoporous Aluminosilicate-Mediated Synthesis of Ethers by a Dehydrative Etherification Approach']\n",
      "[u'B(C6F5)3 promoted cyclisation of internal propargyl esters: structural characterisation of 1,3-dioxolium compounds']\n",
      "[u' Recent Trends in Operando and In Situ Characterization: Techniques for Rational Design of Catalysts ']\n",
      "[u'Flexible Stereoselective Functionalizations of Ketones through Umpolung with Hypervalent Iodine Reagents']\n",
      "[u'Highly Active Aluminosilicates with a Hierarchical Porous Structure for Acetalization of 3,4-dimethoxybenzaldehyde']\n",
      "[u'Vanadium promoted molybdenum phosphate catalysts for the vapour phase partial oxidation of methanol to formaldehyde']\n",
      "[u' Crystal structure of 4-(2,2-dimethylpropanamido)pyridin-3-yl N , N -diisopropyldithiocarbamate ']\n",
      "[u'Experimental and theoretical characterisation of phosphorescence from rhenium polypyridyl tricarbonyl complexes']\n",
      "[u'Cellular Transport Mechanisms of Cytotoxic Metallodrugs: An Overview beyond Cisplatin']\n",
      "[u'Early time detection of OH radical products from energized Criegee intermediates CH2OO and CH3CHOO']\n",
      "[u'Metastable Ionic Diodes Derived from an Amine-Based Polymer of Intrinsic Microporosity']\n",
      "[u'Methods and Applications of Cycloaddition Reactions in Organic Syntheses']\n",
      "[u'A Gold Coordination Compound as a Chemical Probe to Unravel Aquaporin-7 Function']\n",
      "[u'All-atom molecular dynamics simulation of HPMA polymers']\n",
      "[u'Crystal structure of 4-methylsulfanyl-2-phenylquinazoline']\n",
      "[u'Re(VII) and Tc(VII) trioxo complexes stabilized by tridentate ligands and their potential use as radiopharmaceuticals']\n",
      "[u'X-ray birefringence imaging']\n",
      "[u'Diagnosis of Toxoplasmosis Using a Synthetic Glycosylphosphatidylinositol Glycan']\n",
      "0 failed dois from 176 requests\n",
      "failure rate: 0.0\n"
     ]
    }
   ],
   "source": [
    "import re\n",
    "import scrapy\n",
    "from scrapy.http import TextResponse\n",
    "import requests\n",
    "import json\n",
    "#regex modified from http://stackoverflow.com/questions/27910/finding-a-doi-in-a-document-or-page\n",
    "#Alix Axel's regex, with modifications http://stackoverflow.com/users/89771/alix-axel\n",
    "#found on stackoverflow\n",
    "doi_re = re.compile(r'\\b(10[.][0-9]{3,}(?:[.][0-9]+)*/(?:(?![\"&\\'()])\\S)+)')\n",
    "target = 'http://www.cardiff.ac.uk/chemistry/research/publications/2014-publications'\n",
    "r = requests.get(target)\n",
    "response=TextResponse(r.url,body=r.text, encoding='utf-8')\n",
    "\n",
    "#all_dois = doi_re.findall(response.xpath('string(.)').extract()[0])\n",
    "all_dois = doi_re.findall(r.text)\n",
    "all_dois = [clean_doi(d) for d in all_dois]\n",
    "all_dois = list(set(all_dois)) #uniqify\n",
    "print all_dois\n",
    "api_stub = 'http://api.crossref.org/works/'\n",
    "reqs = [api_stub+d for d in all_dois]\n",
    "fails = 0\n",
    "for req in reqs:\n",
    "    #print(req)\n",
    "    r = requests.get(req)\n",
    "    resp=TextResponse(r.url,body=r.text, encoding='utf-8')\n",
    "    try:\n",
    "        jsonresponse = json.loads(resp.body_as_unicode())''\n",
    "        t=jsonresponse[\"message\"]['title']\n",
    "        print(t)\n",
    "    except:\n",
    "        fails+=1\n",
    "print(str(fails) + ' failed dois from ' + str(len(reqs)) + ' requests')\n",
    "print('failure rate: ' + str(float(fails)/len(reqs)))\n",
    "\n"
   ]
  },
  {
   "cell_type": "code",
   "execution_count": 153,
   "metadata": {
    "collapsed": false
   },
   "outputs": [
    {
     "data": {
      "text/plain": [
       "u'10.1002/9781118<d>778173'"
      ]
     },
     "execution_count": 153,
     "metadata": {},
     "output_type": "execute_result"
    }
   ],
   "source": [
    "d =u'10.1002/9781118<d>778173</a>,'\n",
    "clean_doi(d)"
   ]
  },
  {
   "cell_type": "code",
   "execution_count": 145,
   "metadata": {
    "collapsed": false
   },
   "outputs": [],
   "source": [
    "def clean_doi(d):\n",
    "    if d[-1] in'.,':\n",
    "        d=d[:-1]\n",
    "    ###strip trailing html tags\n",
    "    clean = re.sub(r'<[^>]+>$','',d)\n",
    "    return clean"
   ]
  },
  {
   "cell_type": "code",
   "execution_count": 150,
   "metadata": {
    "collapsed": true
   },
   "outputs": [],
   "source": [
    "target = 'http://www.cardiff.ac.uk/chemistry/research/publications/2014-publications'\n",
    "r = requests.get(target)\n",
    "response=TextResponse(r.url,body=r.text, encoding='utf-8')\n",
    "target_space = '//body/div/div/div/div[2]/div[2]'\n",
    "target = response.xpath(target_space).xpath('string(.)').extract()[0] "
   ]
  },
  {
   "cell_type": "code",
   "execution_count": 152,
   "metadata": {
    "collapsed": false
   },
   "outputs": [
    {
     "data": {
      "text/plain": [
       "1"
      ]
     },
     "execution_count": 152,
     "metadata": {},
     "output_type": "execute_result"
    }
   ],
   "source": [
    "len(target)"
   ]
  },
  {
   "cell_type": "code",
   "execution_count": null,
   "metadata": {
    "collapsed": true
   },
   "outputs": [],
   "source": []
  }
 ],
 "metadata": {
  "kernelspec": {
   "display_name": "Python 2",
   "language": "python",
   "name": "python2"
  },
  "language_info": {
   "codemirror_mode": {
    "name": "ipython",
    "version": 2
   },
   "file_extension": ".py",
   "mimetype": "text/x-python",
   "name": "python",
   "nbconvert_exporter": "python",
   "pygments_lexer": "ipython2",
   "version": "2.7.10"
  }
 },
 "nbformat": 4,
 "nbformat_minor": 0
}
